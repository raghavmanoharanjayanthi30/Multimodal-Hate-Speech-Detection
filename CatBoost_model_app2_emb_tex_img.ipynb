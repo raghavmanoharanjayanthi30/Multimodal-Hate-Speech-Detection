{
 "cells": [
  {
   "cell_type": "code",
   "execution_count": 1,
   "id": "8f03f475",
   "metadata": {},
   "outputs": [],
   "source": [
    "import pandas as pd\n",
    "import numpy as np\n",
    "import matplotlib.pyplot as plt\n",
    "import seaborn as sns\n",
    "import pickle\n",
    "from sklearn.model_selection import train_test_split, GridSearchCV\n",
    "from catboost import CatBoostClassifier\n",
    "from sklearn.metrics import accuracy_score, classification_report, precision_score, recall_score, roc_auc_score\n",
    "\n",
    "pd.set_option('display.max_columns', None)"
   ]
  },
  {
   "cell_type": "code",
   "execution_count": 2,
   "id": "a17288d0",
   "metadata": {},
   "outputs": [],
   "source": [
    "#load data here\n",
    "train = pd.read_csv('train_text_emb.csv')\n",
    "val = pd.read_csv('val_text_emb.csv')\n",
    "test = pd.read_csv('test_text_emb.csv')"
   ]
  },
  {
   "cell_type": "code",
   "execution_count": 3,
   "id": "77dafc93",
   "metadata": {},
   "outputs": [],
   "source": [
    "train = train.drop(['tweet_text'],axis=1)\n",
    "val = val.drop(['tweet_text'],axis=1)\n",
    "test = test.drop(['tweet_text'],axis=1)"
   ]
  },
  {
   "cell_type": "code",
   "execution_count": 4,
   "id": "54c14e59",
   "metadata": {},
   "outputs": [],
   "source": [
    "# train = pd.concat([train,val])"
   ]
  },
  {
   "cell_type": "code",
   "execution_count": 5,
   "id": "c833e97b",
   "metadata": {},
   "outputs": [
    {
     "data": {
      "text/plain": [
       "(58954, 10000)"
      ]
     },
     "execution_count": 5,
     "metadata": {},
     "output_type": "execute_result"
    }
   ],
   "source": [
    "train.shape[0], test.shape[0]"
   ]
  },
  {
   "cell_type": "code",
   "execution_count": 6,
   "id": "ec7e058e",
   "metadata": {},
   "outputs": [],
   "source": [
    "label_ = 'label'\n",
    "\n",
    "X_train = train.drop(label_, axis=1)\n",
    "y_train = train[label_]\n",
    "\n",
    "X_test = test.drop(label_, axis=1)\n",
    "y_test = test[label_]"
   ]
  },
  {
   "cell_type": "code",
   "execution_count": 7,
   "id": "40c77194",
   "metadata": {},
   "outputs": [],
   "source": [
    "X_train.shape, X_test.shape"
   ]
  },
  {
   "cell_type": "code",
   "execution_count": 8,
   "id": "d7516925",
   "metadata": {},
   "outputs": [],
   "source": [
    "X_train"
   ]
  },
  {
   "cell_type": "code",
   "execution_count": 9,
   "id": "bf6e125c",
   "metadata": {},
   "outputs": [],
   "source": [
    "X_test"
   ]
  },
  {
   "cell_type": "code",
   "execution_count": null,
   "id": "ed45248f",
   "metadata": {},
   "outputs": [],
   "source": []
  },
  {
   "cell_type": "code",
   "execution_count": 20,
   "id": "174309f8",
   "metadata": {},
   "outputs": [],
   "source": [
    "# train_ori = pd.read_csv('train_text.csv')\n",
    "\n",
    "# train_ori['id'] = train_ori['id'].astype(str)\n",
    "\n",
    "# train_ori = train_ori[['id']]\n",
    "\n",
    "# train_combine_id = pd.concat([train_ori, train], axis=1)\n",
    "\n",
    "# train_combine_id.to_csv('train_emb_.csv', index=False)"
   ]
  },
  {
   "cell_type": "code",
   "execution_count": 12,
   "id": "6d631ed6",
   "metadata": {},
   "outputs": [],
   "source": [
    "# test_ori = pd.read_csv('test_text.csv')\n",
    "\n",
    "# test_ori['id'] = test_ori['id'].astype(str)\n",
    "\n",
    "# test_ori = test_ori[['id']]\n",
    "\n",
    "# test_combine_id = pd.concat([test_ori, test], axis=1)\n",
    "\n",
    "# test_combine_id.to_csv('test_emb_.csv', index=False)"
   ]
  },
  {
   "cell_type": "code",
   "execution_count": null,
   "id": "49552085",
   "metadata": {},
   "outputs": [],
   "source": []
  },
  {
   "cell_type": "code",
   "execution_count": 10,
   "id": "d50ff3d8",
   "metadata": {},
   "outputs": [
    {
     "name": "stdout",
     "output_type": "stream",
     "text": [
      "Best Parameters: {'depth': 5, 'iterations': 400, 'learning_rate': 0.1}\n"
     ]
    }
   ],
   "source": [
    "# Define the parameter grid for grid search\n",
    "# param_grid = {\n",
    "#     'iterations': [100, 200, 300, 400, 500, 1000],\n",
    "#     'depth': [3,4,5,6,7,8,9,10], \n",
    "#     'learning_rate': [0.01, 0.1, 0.2]\n",
    "# }\n",
    "\n",
    "param_grid = {\n",
    "    'iterations': [100, 300, 500],\n",
    "    'depth': [3,5,7], \n",
    "    #'learning_rate': [0.1, 0.2]\n",
    "}\n",
    "\n",
    "# Create a CatBoostClassifier\n",
    "catboost_classifier = CatBoostClassifier(random_seed=42, verbose=0) #cat_features=cat_feat\n",
    "\n",
    "# Create GridSearchCV\n",
    "grid_search = GridSearchCV(catboost_classifier, param_grid, cv=5, scoring='roc_auc')\n",
    "\n",
    "# Fit the model with grid search\n",
    "grid_search.fit(X_train, y_train)\n",
    "\n",
    "# Get the best parameters\n",
    "best_params = grid_search.best_params_\n",
    "print(f'Best Parameters: {best_params}')"
   ]
  },
  {
   "cell_type": "code",
   "execution_count": 11,
   "id": "e130c52a",
   "metadata": {},
   "outputs": [
    {
     "data": {
      "text/plain": [
       "<catboost.core.CatBoostClassifier at 0x16f044590>"
      ]
     },
     "execution_count": 11,
     "metadata": {},
     "output_type": "execute_result"
    }
   ],
   "source": [
    "# Create a CatBoostClassifier\n",
    "catboost_model = CatBoostClassifier(random_seed=42, \n",
    "                                    verbose=0, \n",
    "                                    iterations = best_params['iterations'],\n",
    "                                    depth = best_params['depth'], \n",
    "                                    #learning_rate = best_params['learning_rate']\n",
    "                                    ) #cat_features=cat_feat\n",
    "# Train the model\n",
    "catboost_model.fit(X_train, y_train)"
   ]
  },
  {
   "cell_type": "code",
   "execution_count": null,
   "id": "ad2d52d1",
   "metadata": {},
   "outputs": [],
   "source": []
  },
  {
   "cell_type": "code",
   "execution_count": 12,
   "id": "5ab5bec3",
   "metadata": {},
   "outputs": [
    {
     "name": "stdout",
     "output_type": "stream",
     "text": [
      "AUC for train set: 0.7878063669165362\n",
      "Accuracy for train set: 0.7216436813960033\n",
      "Precision for train set: 0.7321106926477813\n",
      "Recall for train set: 0.6990962254120149\n"
     ]
    }
   ],
   "source": [
    "#Performance Report Train Set\n",
    "y_pred = catboost_model.predict(X_train)\n",
    "y_prob = catboost_model.predict_proba(X_train)\n",
    "\n",
    "auc_train = roc_auc_score(y_train, y_prob[:,1])\n",
    "accuracy_train = accuracy_score(y_train, y_pred)\n",
    "precision = precision_score(y_train, y_pred)\n",
    "recall = recall_score(y_train, y_pred)\n",
    "\n",
    "print(f'AUC for train set: {auc_train}')\n",
    "print(f'Accuracy for train set: {accuracy_train}')\n",
    "print(f'Precision for train set: {precision}')\n",
    "print(f'Recall for train set: {recall}')"
   ]
  },
  {
   "cell_type": "code",
   "execution_count": null,
   "id": "f39bfc5c",
   "metadata": {},
   "outputs": [],
   "source": []
  },
  {
   "cell_type": "code",
   "execution_count": 13,
   "id": "7be514b9",
   "metadata": {},
   "outputs": [
    {
     "name": "stdout",
     "output_type": "stream",
     "text": [
      "AUC for test set: 0.6933409877336396\n",
      "Accuracy for test set: 0.6476\n",
      "Precision for test set: 0.6516115787312666\n",
      "Recall for test set: 0.6346730653869226\n"
     ]
    }
   ],
   "source": [
    "#Performance Report Test Set\n",
    "y_pred = catboost_model.predict(X_test)\n",
    "y_prob = catboost_model.predict_proba(X_test)\n",
    "\n",
    "auc_test = roc_auc_score(y_test, y_prob[:,1])\n",
    "accuracy_test = accuracy_score(y_test, y_pred)\n",
    "precision = precision_score(y_test, y_pred)\n",
    "recall = recall_score(y_test, y_pred)\n",
    "\n",
    "print(f'AUC for test set: {auc_test}')\n",
    "print(f'Accuracy for test set: {accuracy_test}')\n",
    "print(f'Precision for test set: {precision}')\n",
    "print(f'Recall for test set: {recall}')"
   ]
  },
  {
   "cell_type": "code",
   "execution_count": null,
   "id": "b25998d4",
   "metadata": {},
   "outputs": [],
   "source": []
  },
  {
   "cell_type": "code",
   "execution_count": 14,
   "id": "a8a345f2",
   "metadata": {},
   "outputs": [],
   "source": [
    "# Save the model as a pickle file\n",
    "with open('result/catboost_model_local.pkl', 'wb') as f:\n",
    "    pickle.dump(catboost_model, f)"
   ]
  },
  {
   "cell_type": "code",
   "execution_count": null,
   "id": "f29990fc",
   "metadata": {},
   "outputs": [],
   "source": []
  },
  {
   "cell_type": "code",
   "execution_count": 10,
   "id": "ff53ade7",
   "metadata": {},
   "outputs": [
    {
     "name": "stderr",
     "output_type": "stream",
     "text": [
      "/var/folders/80/mp1xxcp16j15b71tc4znvxc00000gn/T/ipykernel_6469/452578489.py:2: SettingWithCopyWarning: \n",
      "A value is trying to be set on a copy of a slice from a DataFrame.\n",
      "Try using .loc[row_indexer,col_indexer] = value instead\n",
      "\n",
      "See the caveats in the documentation: https://pandas.pydata.org/pandas-docs/stable/user_guide/indexing.html#returning-a-view-versus-a-copy\n",
      "  X_test['label'] = y_test\n"
     ]
    }
   ],
   "source": [
    "#add label\n",
    "X_test['label'] = y_test\n",
    "\n",
    "#add final prediction from the model\n",
    "X_test['final_pred'] = y_prob[:,1]\n",
    "\n",
    "#add ids\n",
    "X_test['id'] = test['id']"
   ]
  },
  {
   "cell_type": "code",
   "execution_count": 11,
   "id": "8e65ce8a",
   "metadata": {},
   "outputs": [
    {
     "data": {
      "text/html": [
       "<div>\n",
       "<style scoped>\n",
       "    .dataframe tbody tr th:only-of-type {\n",
       "        vertical-align: middle;\n",
       "    }\n",
       "\n",
       "    .dataframe tbody tr th {\n",
       "        vertical-align: top;\n",
       "    }\n",
       "\n",
       "    .dataframe thead th {\n",
       "        text-align: right;\n",
       "    }\n",
       "</style>\n",
       "<table border=\"1\" class=\"dataframe\">\n",
       "  <thead>\n",
       "    <tr style=\"text-align: right;\">\n",
       "      <th></th>\n",
       "      <th>text_prediction</th>\n",
       "      <th>image_prediction</th>\n",
       "      <th>label</th>\n",
       "      <th>final_pred</th>\n",
       "      <th>id</th>\n",
       "    </tr>\n",
       "  </thead>\n",
       "  <tbody>\n",
       "    <tr>\n",
       "      <th>1</th>\n",
       "      <td>0.268957</td>\n",
       "      <td>0.503504</td>\n",
       "      <td>0</td>\n",
       "      <td>0.330705</td>\n",
       "      <td>1043075096544509952</td>\n",
       "    </tr>\n",
       "    <tr>\n",
       "      <th>2</th>\n",
       "      <td>0.888668</td>\n",
       "      <td>0.503504</td>\n",
       "      <td>0</td>\n",
       "      <td>0.748679</td>\n",
       "      <td>1115669983680454656</td>\n",
       "    </tr>\n",
       "    <tr>\n",
       "      <th>4</th>\n",
       "      <td>0.905938</td>\n",
       "      <td>0.503504</td>\n",
       "      <td>1</td>\n",
       "      <td>0.754194</td>\n",
       "      <td>1036092005741256705</td>\n",
       "    </tr>\n",
       "    <tr>\n",
       "      <th>5</th>\n",
       "      <td>0.304297</td>\n",
       "      <td>0.503504</td>\n",
       "      <td>1</td>\n",
       "      <td>0.345691</td>\n",
       "      <td>1037147555367280640</td>\n",
       "    </tr>\n",
       "    <tr>\n",
       "      <th>6</th>\n",
       "      <td>0.814584</td>\n",
       "      <td>0.503504</td>\n",
       "      <td>1</td>\n",
       "      <td>0.709645</td>\n",
       "      <td>1058255262727827456</td>\n",
       "    </tr>\n",
       "    <tr>\n",
       "      <th>...</th>\n",
       "      <td>...</td>\n",
       "      <td>...</td>\n",
       "      <td>...</td>\n",
       "      <td>...</td>\n",
       "      <td>...</td>\n",
       "    </tr>\n",
       "    <tr>\n",
       "      <th>9992</th>\n",
       "      <td>0.812633</td>\n",
       "      <td>0.503504</td>\n",
       "      <td>1</td>\n",
       "      <td>0.708393</td>\n",
       "      <td>1056325053862871040</td>\n",
       "    </tr>\n",
       "    <tr>\n",
       "      <th>9994</th>\n",
       "      <td>0.242986</td>\n",
       "      <td>0.503504</td>\n",
       "      <td>0</td>\n",
       "      <td>0.327795</td>\n",
       "      <td>1108959275609546754</td>\n",
       "    </tr>\n",
       "    <tr>\n",
       "      <th>9995</th>\n",
       "      <td>0.255713</td>\n",
       "      <td>0.503504</td>\n",
       "      <td>0</td>\n",
       "      <td>0.328791</td>\n",
       "      <td>1109972327897460736</td>\n",
       "    </tr>\n",
       "    <tr>\n",
       "      <th>9997</th>\n",
       "      <td>0.344334</td>\n",
       "      <td>0.503504</td>\n",
       "      <td>0</td>\n",
       "      <td>0.365967</td>\n",
       "      <td>1114945824851730434</td>\n",
       "    </tr>\n",
       "    <tr>\n",
       "      <th>9999</th>\n",
       "      <td>0.889812</td>\n",
       "      <td>0.503504</td>\n",
       "      <td>1</td>\n",
       "      <td>0.748679</td>\n",
       "      <td>1114810734872023040</td>\n",
       "    </tr>\n",
       "  </tbody>\n",
       "</table>\n",
       "<p>5000 rows × 5 columns</p>\n",
       "</div>"
      ],
      "text/plain": [
       "      text_prediction  image_prediction  label  final_pred  \\\n",
       "1            0.268957          0.503504      0    0.330705   \n",
       "2            0.888668          0.503504      0    0.748679   \n",
       "4            0.905938          0.503504      1    0.754194   \n",
       "5            0.304297          0.503504      1    0.345691   \n",
       "6            0.814584          0.503504      1    0.709645   \n",
       "...               ...               ...    ...         ...   \n",
       "9992         0.812633          0.503504      1    0.708393   \n",
       "9994         0.242986          0.503504      0    0.327795   \n",
       "9995         0.255713          0.503504      0    0.328791   \n",
       "9997         0.344334          0.503504      0    0.365967   \n",
       "9999         0.889812          0.503504      1    0.748679   \n",
       "\n",
       "                       id  \n",
       "1     1043075096544509952  \n",
       "2     1115669983680454656  \n",
       "4     1036092005741256705  \n",
       "5     1037147555367280640  \n",
       "6     1058255262727827456  \n",
       "...                   ...  \n",
       "9992  1056325053862871040  \n",
       "9994  1108959275609546754  \n",
       "9995  1109972327897460736  \n",
       "9997  1114945824851730434  \n",
       "9999  1114810734872023040  \n",
       "\n",
       "[5000 rows x 5 columns]"
      ]
     },
     "execution_count": 11,
     "metadata": {},
     "output_type": "execute_result"
    }
   ],
   "source": [
    "X_test"
   ]
  },
  {
   "cell_type": "code",
   "execution_count": null,
   "id": "6a4dcda1",
   "metadata": {},
   "outputs": [],
   "source": []
  },
  {
   "cell_type": "code",
   "execution_count": null,
   "id": "fcd2053c",
   "metadata": {},
   "outputs": [],
   "source": []
  },
  {
   "cell_type": "code",
   "execution_count": null,
   "id": "0f0d1da1",
   "metadata": {},
   "outputs": [],
   "source": []
  },
  {
   "cell_type": "code",
   "execution_count": null,
   "id": "65153a8d",
   "metadata": {},
   "outputs": [],
   "source": []
  }
 ],
 "metadata": {
  "kernelspec": {
   "display_name": "Python 3 (ipykernel)",
   "language": "python",
   "name": "python3"
  },
  "language_info": {
   "codemirror_mode": {
    "name": "ipython",
    "version": 3
   },
   "file_extension": ".py",
   "mimetype": "text/x-python",
   "name": "python",
   "nbconvert_exporter": "python",
   "pygments_lexer": "ipython3",
   "version": "3.11.3"
  }
 },
 "nbformat": 4,
 "nbformat_minor": 5
}
