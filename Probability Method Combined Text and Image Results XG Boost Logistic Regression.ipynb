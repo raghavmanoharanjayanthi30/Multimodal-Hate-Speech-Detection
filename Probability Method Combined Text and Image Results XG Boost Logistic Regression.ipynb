{
 "cells": [
  {
   "cell_type": "code",
   "execution_count": 1,
   "id": "40eadfcc",
   "metadata": {},
   "outputs": [],
   "source": [
    "import pandas as pd"
   ]
  },
  {
   "cell_type": "code",
   "execution_count": 2,
   "id": "e8dddcef",
   "metadata": {},
   "outputs": [
    {
     "data": {
      "text/html": [
       "<div>\n",
       "<style scoped>\n",
       "    .dataframe tbody tr th:only-of-type {\n",
       "        vertical-align: middle;\n",
       "    }\n",
       "\n",
       "    .dataframe tbody tr th {\n",
       "        vertical-align: top;\n",
       "    }\n",
       "\n",
       "    .dataframe thead th {\n",
       "        text-align: right;\n",
       "    }\n",
       "</style>\n",
       "<table border=\"1\" class=\"dataframe\">\n",
       "  <thead>\n",
       "    <tr style=\"text-align: right;\">\n",
       "      <th></th>\n",
       "      <th>id</th>\n",
       "      <th>text_pred</th>\n",
       "      <th>label</th>\n",
       "      <th>image_pred</th>\n",
       "    </tr>\n",
       "  </thead>\n",
       "  <tbody>\n",
       "    <tr>\n",
       "      <th>0</th>\n",
       "      <td>1115290475811037185</td>\n",
       "      <td>0.226079</td>\n",
       "      <td>0</td>\n",
       "      <td>0.49887</td>\n",
       "    </tr>\n",
       "    <tr>\n",
       "      <th>1</th>\n",
       "      <td>1108180634730745857</td>\n",
       "      <td>0.266702</td>\n",
       "      <td>0</td>\n",
       "      <td>0.49887</td>\n",
       "    </tr>\n",
       "    <tr>\n",
       "      <th>2</th>\n",
       "      <td>1064098809314230272</td>\n",
       "      <td>0.535388</td>\n",
       "      <td>0</td>\n",
       "      <td>0.49887</td>\n",
       "    </tr>\n",
       "    <tr>\n",
       "      <th>3</th>\n",
       "      <td>1113434967588188166</td>\n",
       "      <td>0.280910</td>\n",
       "      <td>0</td>\n",
       "      <td>0.49887</td>\n",
       "    </tr>\n",
       "    <tr>\n",
       "      <th>4</th>\n",
       "      <td>1114301234767368192</td>\n",
       "      <td>0.306098</td>\n",
       "      <td>0</td>\n",
       "      <td>0.49887</td>\n",
       "    </tr>\n",
       "  </tbody>\n",
       "</table>\n",
       "</div>"
      ],
      "text/plain": [
       "                    id  text_pred  label  image_pred\n",
       "0  1115290475811037185   0.226079      0     0.49887\n",
       "1  1108180634730745857   0.266702      0     0.49887\n",
       "2  1064098809314230272   0.535388      0     0.49887\n",
       "3  1113434967588188166   0.280910      0     0.49887\n",
       "4  1114301234767368192   0.306098      0     0.49887"
      ]
     },
     "execution_count": 2,
     "metadata": {},
     "output_type": "execute_result"
    }
   ],
   "source": [
    "train_df = pd.read_csv(\"combine_text_img_prob_train.csv\")\n",
    "train_df.head()"
   ]
  },
  {
   "cell_type": "code",
   "execution_count": 3,
   "id": "ea06f215",
   "metadata": {},
   "outputs": [],
   "source": [
    "y_train = train_df['label']"
   ]
  },
  {
   "cell_type": "code",
   "execution_count": 4,
   "id": "12aa4dde",
   "metadata": {},
   "outputs": [
    {
     "data": {
      "text/html": [
       "<div>\n",
       "<style scoped>\n",
       "    .dataframe tbody tr th:only-of-type {\n",
       "        vertical-align: middle;\n",
       "    }\n",
       "\n",
       "    .dataframe tbody tr th {\n",
       "        vertical-align: top;\n",
       "    }\n",
       "\n",
       "    .dataframe thead th {\n",
       "        text-align: right;\n",
       "    }\n",
       "</style>\n",
       "<table border=\"1\" class=\"dataframe\">\n",
       "  <thead>\n",
       "    <tr style=\"text-align: right;\">\n",
       "      <th></th>\n",
       "      <th>text_pred</th>\n",
       "      <th>image_pred</th>\n",
       "    </tr>\n",
       "  </thead>\n",
       "  <tbody>\n",
       "    <tr>\n",
       "      <th>0</th>\n",
       "      <td>0.226079</td>\n",
       "      <td>0.49887</td>\n",
       "    </tr>\n",
       "    <tr>\n",
       "      <th>1</th>\n",
       "      <td>0.266702</td>\n",
       "      <td>0.49887</td>\n",
       "    </tr>\n",
       "    <tr>\n",
       "      <th>2</th>\n",
       "      <td>0.535388</td>\n",
       "      <td>0.49887</td>\n",
       "    </tr>\n",
       "    <tr>\n",
       "      <th>3</th>\n",
       "      <td>0.280910</td>\n",
       "      <td>0.49887</td>\n",
       "    </tr>\n",
       "    <tr>\n",
       "      <th>4</th>\n",
       "      <td>0.306098</td>\n",
       "      <td>0.49887</td>\n",
       "    </tr>\n",
       "  </tbody>\n",
       "</table>\n",
       "</div>"
      ],
      "text/plain": [
       "   text_pred  image_pred\n",
       "0   0.226079     0.49887\n",
       "1   0.266702     0.49887\n",
       "2   0.535388     0.49887\n",
       "3   0.280910     0.49887\n",
       "4   0.306098     0.49887"
      ]
     },
     "execution_count": 4,
     "metadata": {},
     "output_type": "execute_result"
    }
   ],
   "source": [
    "X_train = train_df.drop([\"id\", \"label\"],axis = 1)\n",
    "X_train.head()"
   ]
  },
  {
   "cell_type": "code",
   "execution_count": 5,
   "id": "d2c363b9",
   "metadata": {},
   "outputs": [
    {
     "data": {
      "text/plain": [
       "0    0\n",
       "1    0\n",
       "2    0\n",
       "3    0\n",
       "4    0\n",
       "Name: label, dtype: int64"
      ]
     },
     "execution_count": 5,
     "metadata": {},
     "output_type": "execute_result"
    }
   ],
   "source": [
    "y_train.head()"
   ]
  },
  {
   "cell_type": "code",
   "execution_count": 6,
   "id": "471b4fbe",
   "metadata": {},
   "outputs": [
    {
     "data": {
      "text/html": [
       "<div>\n",
       "<style scoped>\n",
       "    .dataframe tbody tr th:only-of-type {\n",
       "        vertical-align: middle;\n",
       "    }\n",
       "\n",
       "    .dataframe tbody tr th {\n",
       "        vertical-align: top;\n",
       "    }\n",
       "\n",
       "    .dataframe thead th {\n",
       "        text-align: right;\n",
       "    }\n",
       "</style>\n",
       "<table border=\"1\" class=\"dataframe\">\n",
       "  <thead>\n",
       "    <tr style=\"text-align: right;\">\n",
       "      <th></th>\n",
       "      <th>id</th>\n",
       "      <th>text_pred</th>\n",
       "      <th>label</th>\n",
       "      <th>image_pred</th>\n",
       "    </tr>\n",
       "  </thead>\n",
       "  <tbody>\n",
       "    <tr>\n",
       "      <th>0</th>\n",
       "      <td>1115275629476372480</td>\n",
       "      <td>0.252771</td>\n",
       "      <td>0</td>\n",
       "      <td>0.49887</td>\n",
       "    </tr>\n",
       "    <tr>\n",
       "      <th>1</th>\n",
       "      <td>1114404944499625984</td>\n",
       "      <td>0.269186</td>\n",
       "      <td>0</td>\n",
       "      <td>0.49887</td>\n",
       "    </tr>\n",
       "    <tr>\n",
       "      <th>2</th>\n",
       "      <td>1107329660558471171</td>\n",
       "      <td>0.849918</td>\n",
       "      <td>0</td>\n",
       "      <td>0.49887</td>\n",
       "    </tr>\n",
       "    <tr>\n",
       "      <th>3</th>\n",
       "      <td>1107665629409099777</td>\n",
       "      <td>0.270317</td>\n",
       "      <td>0</td>\n",
       "      <td>0.49887</td>\n",
       "    </tr>\n",
       "    <tr>\n",
       "      <th>4</th>\n",
       "      <td>1117318148275961856</td>\n",
       "      <td>0.906745</td>\n",
       "      <td>1</td>\n",
       "      <td>0.49887</td>\n",
       "    </tr>\n",
       "  </tbody>\n",
       "</table>\n",
       "</div>"
      ],
      "text/plain": [
       "                    id  text_pred  label  image_pred\n",
       "0  1115275629476372480   0.252771      0     0.49887\n",
       "1  1114404944499625984   0.269186      0     0.49887\n",
       "2  1107329660558471171   0.849918      0     0.49887\n",
       "3  1107665629409099777   0.270317      0     0.49887\n",
       "4  1117318148275961856   0.906745      1     0.49887"
      ]
     },
     "execution_count": 6,
     "metadata": {},
     "output_type": "execute_result"
    }
   ],
   "source": [
    "test_df = pd.read_csv(\"combine_text_img_prob_test.csv\")\n",
    "test_df.head()"
   ]
  },
  {
   "cell_type": "code",
   "execution_count": 7,
   "id": "bcab0842",
   "metadata": {},
   "outputs": [],
   "source": [
    "y_test = test_df['label']"
   ]
  },
  {
   "cell_type": "code",
   "execution_count": 8,
   "id": "dc19c0d7",
   "metadata": {},
   "outputs": [
    {
     "data": {
      "text/plain": [
       "0    0\n",
       "1    0\n",
       "2    0\n",
       "3    0\n",
       "4    1\n",
       "Name: label, dtype: int64"
      ]
     },
     "execution_count": 8,
     "metadata": {},
     "output_type": "execute_result"
    }
   ],
   "source": [
    "y_test.head()"
   ]
  },
  {
   "cell_type": "code",
   "execution_count": 9,
   "id": "38a8e558",
   "metadata": {},
   "outputs": [
    {
     "data": {
      "text/html": [
       "<div>\n",
       "<style scoped>\n",
       "    .dataframe tbody tr th:only-of-type {\n",
       "        vertical-align: middle;\n",
       "    }\n",
       "\n",
       "    .dataframe tbody tr th {\n",
       "        vertical-align: top;\n",
       "    }\n",
       "\n",
       "    .dataframe thead th {\n",
       "        text-align: right;\n",
       "    }\n",
       "</style>\n",
       "<table border=\"1\" class=\"dataframe\">\n",
       "  <thead>\n",
       "    <tr style=\"text-align: right;\">\n",
       "      <th></th>\n",
       "      <th>text_pred</th>\n",
       "      <th>image_pred</th>\n",
       "    </tr>\n",
       "  </thead>\n",
       "  <tbody>\n",
       "    <tr>\n",
       "      <th>0</th>\n",
       "      <td>0.252771</td>\n",
       "      <td>0.49887</td>\n",
       "    </tr>\n",
       "    <tr>\n",
       "      <th>1</th>\n",
       "      <td>0.269186</td>\n",
       "      <td>0.49887</td>\n",
       "    </tr>\n",
       "    <tr>\n",
       "      <th>2</th>\n",
       "      <td>0.849918</td>\n",
       "      <td>0.49887</td>\n",
       "    </tr>\n",
       "    <tr>\n",
       "      <th>3</th>\n",
       "      <td>0.270317</td>\n",
       "      <td>0.49887</td>\n",
       "    </tr>\n",
       "    <tr>\n",
       "      <th>4</th>\n",
       "      <td>0.906745</td>\n",
       "      <td>0.49887</td>\n",
       "    </tr>\n",
       "  </tbody>\n",
       "</table>\n",
       "</div>"
      ],
      "text/plain": [
       "   text_pred  image_pred\n",
       "0   0.252771     0.49887\n",
       "1   0.269186     0.49887\n",
       "2   0.849918     0.49887\n",
       "3   0.270317     0.49887\n",
       "4   0.906745     0.49887"
      ]
     },
     "execution_count": 9,
     "metadata": {},
     "output_type": "execute_result"
    }
   ],
   "source": [
    "X_test = test_df.drop([\"id\", \"label\"],axis = 1)\n",
    "X_test.head()"
   ]
  },
  {
   "cell_type": "code",
   "execution_count": 11,
   "id": "4628c8ca",
   "metadata": {},
   "outputs": [
    {
     "data": {
      "text/plain": [
       "(10000, 2)"
      ]
     },
     "execution_count": 11,
     "metadata": {},
     "output_type": "execute_result"
    }
   ],
   "source": [
    "X_test.shape"
   ]
  },
  {
   "cell_type": "code",
   "execution_count": 12,
   "id": "814230eb",
   "metadata": {},
   "outputs": [
    {
     "data": {
      "text/plain": [
       "(58954, 2)"
      ]
     },
     "execution_count": 12,
     "metadata": {},
     "output_type": "execute_result"
    }
   ],
   "source": [
    "X_train.shape"
   ]
  },
  {
   "cell_type": "code",
   "execution_count": 13,
   "id": "359d2430",
   "metadata": {},
   "outputs": [
    {
     "data": {
      "text/plain": [
       "(58954,)"
      ]
     },
     "execution_count": 13,
     "metadata": {},
     "output_type": "execute_result"
    }
   ],
   "source": [
    "y_train.shape"
   ]
  },
  {
   "cell_type": "code",
   "execution_count": 14,
   "id": "e89c6469",
   "metadata": {},
   "outputs": [
    {
     "data": {
      "text/plain": [
       "(10000,)"
      ]
     },
     "execution_count": 14,
     "metadata": {},
     "output_type": "execute_result"
    }
   ],
   "source": [
    "y_test.shape"
   ]
  },
  {
   "cell_type": "code",
   "execution_count": 17,
   "id": "f869cb5c",
   "metadata": {},
   "outputs": [
    {
     "name": "stdout",
     "output_type": "stream",
     "text": [
      "Best Parameters for XG Boost: {'learning_rate': 0.1, 'max_depth': 3, 'n_estimators': 200}\n",
      "Test Accuracy for XG Boost: 0.6737\n",
      "AUC Score for XG Boost: 0.7192830087713203\n"
     ]
    }
   ],
   "source": [
    "from xgboost import XGBClassifier\n",
    "from sklearn.model_selection import GridSearchCV\n",
    "from sklearn.metrics import accuracy_score, roc_auc_score\n",
    "\n",
    "# Create XGBoost classifier without specifying tree_method\n",
    "xgb_model = XGBClassifier()\n",
    "\n",
    "# Define parameter grid for grid search\n",
    "param_grid = {\n",
    "    'n_estimators': [100, 200, 300],\n",
    "    'max_depth': [3, 5, 7],\n",
    "    'learning_rate': [0.1, 0.2]\n",
    "}\n",
    "\n",
    "# Create GridSearchCV object\n",
    "grid_search = GridSearchCV(estimator=xgb_model, param_grid=param_grid, scoring='accuracy', cv=3, n_jobs=-1)\n",
    "\n",
    "# Fit the grid search to the data\n",
    "grid_result = grid_search.fit(X_train, y_train)\n",
    "\n",
    "# Get the best parameters\n",
    "best_params = grid_result.best_params_\n",
    "print(\"Best Parameters for XG Boost:\", best_params)\n",
    "\n",
    "# Train the model with the best parameters\n",
    "best_model = XGBClassifier(**best_params)\n",
    "best_model.fit(X_train, y_train)\n",
    "\n",
    "# Evaluate the model\n",
    "y_pred = best_model.predict(X_test)\n",
    "accuracy = accuracy_score(y_test, y_pred)\n",
    "\n",
    "print(\"Test Accuracy for XG Boost:\", accuracy)\n",
    "\n",
    "# Predict probabilities for each class\n",
    "y_pred_proba = best_model.predict_proba(X_test)[:, 1]\n",
    "\n",
    "# Calculate the AUC score\n",
    "auc_score = roc_auc_score(y_test, y_pred_proba)\n",
    "\n",
    "print(\"AUC Score for XG Boost:\", auc_score)"
   ]
  },
  {
   "cell_type": "code",
   "execution_count": 18,
   "id": "972de545",
   "metadata": {},
   "outputs": [
    {
     "name": "stdout",
     "output_type": "stream",
     "text": [
      "Best Parameters for Logistic Regression: {'C': 1}\n",
      "Test Accuracy for Logistic Regression: 0.6756\n",
      "AUC Score for Logistic Regression: 0.7197437887897515\n"
     ]
    }
   ],
   "source": [
    "from sklearn.linear_model import LogisticRegression\n",
    "from sklearn.model_selection import GridSearchCV\n",
    "from sklearn.metrics import accuracy_score, roc_auc_score\n",
    "\n",
    "# Create Logistic Regression classifier\n",
    "logreg_model = LogisticRegression(solver='liblinear', random_state=42)\n",
    "\n",
    "# Define parameter grid for grid search\n",
    "logreg_param_grid = {\n",
    "    'C': [0.001, 0.01, 0.1, 1, 10, 100],  # Regularization parameter\n",
    "}\n",
    "\n",
    "# Create GridSearchCV object\n",
    "logreg_grid_search = GridSearchCV(estimator=logreg_model, param_grid=logreg_param_grid, scoring='accuracy', cv=3, n_jobs=-1)\n",
    "\n",
    "# Fit the grid search to the data\n",
    "logreg_grid_result = logreg_grid_search.fit(X_train, y_train)\n",
    "\n",
    "# Get the best parameters\n",
    "best_logreg_params = logreg_grid_result.best_params_\n",
    "print(\"Best Parameters for Logistic Regression:\", best_logreg_params)\n",
    "\n",
    "# Train the Logistic Regression model with the best parameters\n",
    "best_logreg_model = LogisticRegression(solver='liblinear', random_state=42, **best_logreg_params)\n",
    "best_logreg_model.fit(X_train, y_train)\n",
    "\n",
    "# Evaluate the Logistic Regression model\n",
    "y_logreg_pred = best_logreg_model.predict(X_test)\n",
    "logreg_accuracy = accuracy_score(y_test, y_logreg_pred)\n",
    "\n",
    "print(\"Test Accuracy for Logistic Regression:\", logreg_accuracy)\n",
    "\n",
    "# Predict probabilities for each class\n",
    "y_logreg_pred_proba = best_logreg_model.predict_proba(X_test)[:, 1]\n",
    "\n",
    "# Calculate the AUC score for Logistic Regression\n",
    "logreg_auc_score = roc_auc_score(y_test, y_logreg_pred_proba)\n",
    "\n",
    "print(\"AUC Score for Logistic Regression:\", logreg_auc_score)"
   ]
  },
  {
   "cell_type": "code",
   "execution_count": null,
   "id": "434b4ff6",
   "metadata": {},
   "outputs": [],
   "source": []
  }
 ],
 "metadata": {
  "kernelspec": {
   "display_name": "Python 3 (ipykernel)",
   "language": "python",
   "name": "python3"
  },
  "language_info": {
   "codemirror_mode": {
    "name": "ipython",
    "version": 3
   },
   "file_extension": ".py",
   "mimetype": "text/x-python",
   "name": "python",
   "nbconvert_exporter": "python",
   "pygments_lexer": "ipython3",
   "version": "3.11.3"
  }
 },
 "nbformat": 4,
 "nbformat_minor": 5
}
